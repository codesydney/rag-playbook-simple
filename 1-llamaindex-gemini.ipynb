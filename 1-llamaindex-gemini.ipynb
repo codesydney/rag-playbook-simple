{
 "cells": [
  {
   "cell_type": "markdown",
   "id": "a39bda69",
   "metadata": {},
   "source": [
    "# RAG System using LlamaIndex and LanceDB\n",
    "\n",
    "This notebook demonstrates how to build a Retrieval-Augmented Generation (RAG) system for question answering on the jp-handbook-full.pdf document using:\n",
    "- LlamaIndex for document processing and querying\n",
    "- LanceDB as the vector store"
   ]
  },
  {
   "cell_type": "markdown",
   "id": "8025f246",
   "metadata": {},
   "source": [
    "## Install Required Dependencies\n",
    "\n",
    "First, let's install the necessary libraries if they aren't already installed."
   ]
  },
  {
   "cell_type": "code",
   "execution_count": 4,
   "id": "71022e93",
   "metadata": {},
   "outputs": [],
   "source": [
    "%%capture\n",
    "# Install required packages\n",
    "! pip install llama-index llama-index-readers-file llama-index-llms-google-genai llama-index-embeddings-google-genai lancedb pypdf python-dotenv google-generativeai"
   ]
  },
  {
   "cell_type": "markdown",
   "id": "bdd1a60d",
   "metadata": {},
   "source": [
    "## Import Libraries\n",
    "\n",
    "Now let's import the necessary libraries for our RAG system."
   ]
  },
  {
   "cell_type": "code",
   "execution_count": 5,
   "id": "e36781bf",
   "metadata": {},
   "outputs": [
    {
     "name": "stderr",
     "output_type": "stream",
     "text": [
      "/Users/josereyes/Dev/poc-modal/.venv/lib/python3.12/site-packages/tqdm/auto.py:21: TqdmWarning: IProgress not found. Please update jupyter and ipywidgets. See https://ipywidgets.readthedocs.io/en/stable/user_install.html\n",
      "  from .autonotebook import tqdm as notebook_tqdm\n"
     ]
    },
    {
     "name": "stdout",
     "output_type": "stream",
     "text": [
      "Google API key loaded successfully from environment variables.\n"
     ]
    }
   ],
   "source": [
    "# Import required libraries\n",
    "import os\n",
    "import lancedb\n",
    "from dotenv import load_dotenv\n",
    "from llama_index.core import SimpleDirectoryReader  # Updated import path\n",
    "from llama_index.core import Settings, VectorStoreIndex, StorageContext  # Core imports\n",
    "from llama_index.vector_stores.lancedb import LanceDBVectorStore\n",
    "from llama_index.llms.google_genai import GoogleGenAI\n",
    "from llama_index.embeddings.google_genai import GoogleGenAIEmbedding\n",
    "from llama_index.core.node_parser import SentenceSplitter  # Updated import path\n",
    "\n",
    "# Load environment variables from .env file\n",
    "load_dotenv()\n",
    "\n",
    "# Set up the Gemini models for LLM and embeddings\n",
    "import google.generativeai as genai\n",
    "\n",
    "# Get API key from environment variables\n",
    "api_key = os.getenv(\"GOOGLE_API_KEY\")\n",
    "if not api_key:\n",
    "    print(\"Warning: GOOGLE_API_KEY not found in environment variables.\")\n",
    "    print(\"Please create a .env file in the project root with your Google API key:\")\n",
    "    print(\"GOOGLE_API_KEY=your-api-key-here\")\n",
    "else:\n",
    "    print(\"Google API key loaded successfully from environment variables.\")\n",
    "    genai.configure(api_key=api_key)\n",
    "\n",
    "    # Set up the LLM using gemini-2.0-flash\n",
    "    llm = GoogleGenAI(model=\"gemini-2.0-flash\", temperature=0.1)\n",
    "\n",
    "    # Set up the embedding model using gemini-embedding-exp\n",
    "    embed_model = GoogleGenAIEmbedding(model_name=\"models/text-embedding-004\", api_key=api_key)\n",
    "\n",
    "    # Configure LlamaIndex to use these models\n",
    "    Settings.llm = llm\n",
    "    Settings.embed_model = embed_model"
   ]
  },
  {
   "cell_type": "markdown",
   "id": "90ab7422",
   "metadata": {},
   "source": [
    "## Load and Process the PDF Document\n",
    "\n",
    "We'll load the jp-handbook-full.pdf document and split it into chunks for better retrieval."
   ]
  },
  {
   "cell_type": "code",
   "execution_count": 6,
   "id": "2e69c01f",
   "metadata": {},
   "outputs": [
    {
     "name": "stdout",
     "output_type": "stream",
     "text": [
      "Loading document: ../jp-handbook-full.pdf\n",
      "Loaded 132 document(s)\n",
      "Loaded 132 document(s)\n"
     ]
    }
   ],
   "source": [
    "# Define the path to the PDF document\n",
    "pdf_path = '../jp-handbook-full.pdf'\n",
    "\n",
    "# Check if the file exists\n",
    "if os.path.exists(pdf_path):\n",
    "    print(f\"Loading document: {pdf_path}\")\n",
    "else:\n",
    "    print(f\"Error: Document not found at {pdf_path}\")\n",
    "\n",
    "# Load the document using SimpleDirectoryReader\n",
    "documents = SimpleDirectoryReader(input_files=[pdf_path]).load_data()\n",
    "print(f\"Loaded {len(documents)} document(s)\")"
   ]
  },
  {
   "cell_type": "markdown",
   "id": "fe8db551",
   "metadata": {},
   "source": [
    "## Parse the Document into Nodes\n",
    "\n",
    "Split the document into smaller chunks for more effective retrieval."
   ]
  },
  {
   "cell_type": "code",
   "execution_count": 7,
   "id": "a9369d15",
   "metadata": {},
   "outputs": [
    {
     "name": "stdout",
     "output_type": "stream",
     "text": [
      "Document split into 132 nodes\n"
     ]
    }
   ],
   "source": [
    "# Create a node parser to split the document into chunks\n",
    "node_parser = SentenceSplitter(chunk_size=1024, chunk_overlap=200)\n",
    "\n",
    "# Parse the document into nodes\n",
    "nodes = node_parser.get_nodes_from_documents(documents)\n",
    "print(f\"Document split into {len(nodes)} nodes\")"
   ]
  },
  {
   "cell_type": "markdown",
   "id": "e63a00a1",
   "metadata": {},
   "source": [
    "## Set Up LanceDB Vector Store\n",
    "\n",
    "Create a LanceDB vector store to efficiently store and retrieve document vectors."
   ]
  },
  {
   "cell_type": "code",
   "execution_count": 10,
   "id": "a27b8aa2",
   "metadata": {},
   "outputs": [
    {
     "name": "stdout",
     "output_type": "stream",
     "text": [
      "Vector index created successfully\n"
     ]
    }
   ],
   "source": [
    "# Create LanceDB database and table\n",
    "db = lancedb.connect('./lancedb')\n",
    "table_name = 'jp_handbook'\n",
    "\n",
    "# Remove existing table if it exists\n",
    "if table_name in db.table_names():\n",
    "    db.drop_table(table_name)\n",
    "\n",
    "# Create a new LanceDB vector store\n",
    "vector_store = LanceDBVectorStore(db=db, table_name=table_name)\n",
    "storage_context = StorageContext.from_defaults(vector_store=vector_store)\n",
    "\n",
    "# Create an index from the nodes\n",
    "index = VectorStoreIndex(nodes, storage_context=storage_context)\n",
    "print(\"Vector index created successfully\")"
   ]
  },
  {
   "cell_type": "markdown",
   "id": "71c71d8e",
   "metadata": {},
   "source": [
    "## Create a Query Engine\n",
    "\n",
    "Set up a query engine to answer questions based on the indexed document."
   ]
  },
  {
   "cell_type": "code",
   "execution_count": 11,
   "id": "82f3ae61",
   "metadata": {},
   "outputs": [
    {
     "name": "stdout",
     "output_type": "stream",
     "text": [
      "Query engine ready for questions\n"
     ]
    }
   ],
   "source": [
    "# Create a query engine\n",
    "query_engine = index.as_query_engine(similarity_top_k=5)\n",
    "print(\"Query engine ready for questions\")"
   ]
  },
  {
   "cell_type": "markdown",
   "id": "30433b67",
   "metadata": {},
   "source": [
    "## Ask Questions\n",
    "\n",
    "Now you can ask questions about the jp-handbook-full.pdf document."
   ]
  },
  {
   "cell_type": "code",
   "execution_count": 23,
   "id": "03ba716a",
   "metadata": {},
   "outputs": [],
   "source": [
    "def ask_question(question, num=0):\n",
    "    # print(f\"Q: {question}\")\n",
    "    try:\n",
    "        response = query_engine.query(question)\n",
    "        markdown_response = f\"\"\"\n",
    "### Question {f\"#{num}\" if num != 0 else \"\"}\n",
    "{question}\n",
    "\n",
    "### Answer\n",
    "{response}\n",
    "\n",
    "### Sources\n",
    "\"\"\"\n",
    "        for i, source_node in enumerate(response.source_nodes):\n",
    "            content_preview = source_node.node.get_content()[:150].replace('\\n', ' ').strip()\n",
    "            markdown_response += f\"{i+1}. {content_preview}...\\n\\n\"\n",
    "            \n",
    "        from IPython.display import Markdown, display\n",
    "        display(Markdown(markdown_response))\n",
    "        return response\n",
    "    except Exception as e:\n",
    "        error_message = f\"\"\"\n",
    "### Question\n",
    "{question}\n",
    "\n",
    "### Error\n",
    "```\n",
    "{str(e)}\n",
    "```\n",
    "\n",
    "If this is a RESOURCE_EXHAUSTED error, you've hit Google API quota limits. Try again later.\n",
    "\"\"\"\n",
    "        from IPython.display import Markdown, display\n",
    "        display(Markdown(error_message))\n",
    "        return None"
   ]
  },
  {
   "cell_type": "code",
   "execution_count": 13,
   "id": "92cb7e16",
   "metadata": {},
   "outputs": [
    {
     "data": {
      "text/markdown": [
       "\n",
       "### Question\n",
       "List the duties and services of a Justice of the Peace.\n",
       "\n",
       "### Answer\n",
       "A JP can witness statutory declarations and affidavits, certify copies of original documents, and perform other functions given to them by or under a NSW Act or NSW Regulation. These other functions may include witnessing various kinds of legal documents and administering special kinds of oaths.\n",
       "\n",
       "\n",
       "### Sources\n",
       "1. Justice  of the Peace  Handbook...\n",
       "\n",
       "2. 128 Justice of the Peace Handbook...\n",
       "\n",
       "3. 3Introduction  1  Introduction  Thank you for serving the people of NSW as a JP.  The Attorney General of NSW acknowledges and  sincerely appreciates...\n",
       "\n",
       "4. 11Performing your functions as a Justice of the Peace  2  Performing your functions   as a Justice of the Peace  This section details the most commonl...\n",
       "\n",
       "5. 2.4  Performing other functions of a JP  What is it? As a JP, you can only per form functions that are given to  a JP by or under a NSW Act or NSW Reg...\n",
       "\n"
      ],
      "text/plain": [
       "<IPython.core.display.Markdown object>"
      ]
     },
     "metadata": {},
     "output_type": "display_data"
    }
   ],
   "source": [
    "# Example questions - replace with your own questions about the handbook\n",
    "question = \"List the duties and services of a Justice of the Peace.\"\n",
    "response = ask_question(question)"
   ]
  },
  {
   "cell_type": "code",
   "execution_count": 14,
   "id": "2732f204",
   "metadata": {},
   "outputs": [
    {
     "data": {
      "text/markdown": [
       "\n",
       "### Question\n",
       "List the procedures for arresting a criminal?\n",
       "\n",
       "### Answer\n",
       "I am sorry, but the information needed to answer this question is not available in the context.\n",
       "\n",
       "\n",
       "### Sources\n",
       "1. Justice  of the Peace  Handbook...\n",
       "\n",
       "2. 128 Justice of the Peace Handbook...\n",
       "\n",
       "3. Justice of the Peace Handbook 122...\n",
       "\n",
       "4. ...\n",
       "\n",
       "5. ...\n",
       "\n"
      ],
      "text/plain": [
       "<IPython.core.display.Markdown object>"
      ]
     },
     "metadata": {},
     "output_type": "display_data"
    }
   ],
   "source": [
    "# Try another question\n",
    "question = \"List the procedures for arresting a criminal?\"\n",
    "response = ask_question(question)"
   ]
  },
  {
   "cell_type": "markdown",
   "id": "c1a8edac",
   "metadata": {},
   "source": [
    "## Multiple Q&A\n",
    "\n"
   ]
  },
  {
   "cell_type": "code",
   "execution_count": 26,
   "id": "462bc2b5",
   "metadata": {},
   "outputs": [],
   "source": [
    "import time\n",
    "\n",
    "# List of questions to ask about the JP handbook\n",
    "jp_questions = [\n",
    "    \"What are the main responsibilities of a Justice of the Peace?\",\n",
    "    \"What legal documents can a Justice of the Peace certify or witness?\",\n",
    "    \"What is the procedure for handling bail applications?\",\n",
    "    \"What ethical considerations should a Justice of the Peace keep in mind?\",\n",
    "    \"How does a Justice of the Peace handle conflicts of interest?\",\n",
    "    \"What are the requirements to become a Justice of the Peace?\",\n",
    "    \"What are the limitations on a Justice of the Peace's authority?\",\n",
    "    \"How should a Justice of the Peace handle confidentiality issues?\",\n",
    "    \"What training is required for a Justice of the Peace?\",\n",
    "    \"What record-keeping responsibilities does a Justice of the Peace have?\"\n",
    "]\n",
    "\n",
    "# Function to iterate through questions with a delay to avoid rate limiting\n",
    "def ask_multiple_questions(questions_list, delay_seconds=1):\n",
    "    print(f\"Processing {len(questions_list)} questions with {delay_seconds} second delay between each...\\n\")\n",
    "    for i, question in enumerate(questions_list):\n",
    "        ask_question(question, i+1)\n",
    "        # print(f\"\\nWaiting {delay_seconds} seconds before next question...\")\n",
    "        time.sleep(delay_seconds)"
   ]
  },
  {
   "cell_type": "code",
   "execution_count": 27,
   "id": "870ea6a1",
   "metadata": {},
   "outputs": [
    {
     "name": "stdout",
     "output_type": "stream",
     "text": [
      "Processing 10 questions with 1 second delay between each...\n",
      "\n"
     ]
    },
    {
     "data": {
      "text/markdown": [
       "\n",
       "### Question #1\n",
       "What are the main responsibilities of a Justice of the Peace?\n",
       "\n",
       "### Answer\n",
       "The handbook includes information about the functions, obligations, and available support for Justices of the Peace. It also contains frequently asked questions about their authority and a code of conduct.\n",
       "\n",
       "\n",
       "### Sources\n",
       "1. Justice  of the Peace  Handbook...\n",
       "\n",
       "2. 128 Justice of the Peace Handbook...\n",
       "\n",
       "3. 3Introduction  1  Introduction  Thank you for serving the people of NSW as a JP.  The Attorney General of NSW acknowledges and  sincerely appreciates...\n",
       "\n",
       "4. 123 Code of Conduct for Justices of the Peace  5  Code of Conduct for   Justices of the Peace...\n",
       "\n",
       "5. Justice of the Peace Handbook 122...\n",
       "\n"
      ],
      "text/plain": [
       "<IPython.core.display.Markdown object>"
      ]
     },
     "metadata": {},
     "output_type": "display_data"
    },
    {
     "data": {
      "text/markdown": [
       "\n",
       "### Question #2\n",
       "What legal documents can a Justice of the Peace certify or witness?\n",
       "\n",
       "### Answer\n",
       "A Justice of the Peace can witness a statutory declaration or an affidavit, and they can certify copies of original documents.\n",
       "\n",
       "\n",
       "### Sources\n",
       "1. Justice  of the Peace  Handbook...\n",
       "\n",
       "2. 11Performing your functions as a Justice of the Peace  2  Performing your functions   as a Justice of the Peace  This section details the most commonl...\n",
       "\n",
       "3. 128 Justice of the Peace Handbook...\n",
       "\n",
       "4. QUICK REFERENCE:  Certifying a copy of an original  document  STEP 1 Have the original document and copy in front of you  STEP 2 Che ck that the copy...\n",
       "\n",
       "5. Justice of the Peace Handbook 122...\n",
       "\n"
      ],
      "text/plain": [
       "<IPython.core.display.Markdown object>"
      ]
     },
     "metadata": {},
     "output_type": "display_data"
    },
    {
     "data": {
      "text/markdown": [
       "\n",
       "### Question #3\n",
       "What is the procedure for handling bail applications?\n",
       "\n",
       "### Answer\n",
       "The document does not contain information about the procedure for handling bail applications.\n",
       "\n",
       "\n",
       "### Sources\n",
       "1. Justice  of the Peace  Handbook...\n",
       "\n",
       "2. Justice of the Peace Handbook 122...\n",
       "\n",
       "3. 128 Justice of the Peace Handbook...\n",
       "\n",
       "4. 123 Code of Conduct for Justices of the Peace  5  Code of Conduct for   Justices of the Peace...\n",
       "\n",
       "5. ...\n",
       "\n"
      ],
      "text/plain": [
       "<IPython.core.display.Markdown object>"
      ]
     },
     "metadata": {},
     "output_type": "display_data"
    },
    {
     "data": {
      "text/markdown": [
       "\n",
       "### Question #4\n",
       "What ethical considerations should a Justice of the Peace keep in mind?\n",
       "\n",
       "### Answer\n",
       "A Justice of the Peace should not unreasonably refuse services, but rather treat all persons with courtesy, dignity, and respect, and in a timely manner. They must not engage in dishonest activities or conduct themselves in a way that brings their office into disrepute. They are expected to keep private information safe and remain independent and impartial, declining service if a conflict of interest exists. They cannot charge a fee or accept gifts for providing services and must not use their title to advance personal interests, although they may use the title on business cards or letterheads. If their term expires or they are removed from office, they must immediately cease providing services.\n",
       "\n",
       "\n",
       "### Sources\n",
       "1. 123 Code of Conduct for Justices of the Peace  5  Code of Conduct for   Justices of the Peace...\n",
       "\n",
       "2. Justice  of the Peace  Handbook...\n",
       "\n",
       "3. 1 Access to services  1) A Justice of the Peace must not unreasonably refuse to provide  Justice of the Peace services and must treat all persons seek...\n",
       "\n",
       "4. 128 Justice of the Peace Handbook...\n",
       "\n",
       "5. Justice of the Peace Handbook 122...\n",
       "\n"
      ],
      "text/plain": [
       "<IPython.core.display.Markdown object>"
      ]
     },
     "metadata": {},
     "output_type": "display_data"
    },
    {
     "data": {
      "text/markdown": [
       "\n",
       "### Question #5\n",
       "How does a Justice of the Peace handle conflicts of interest?\n",
       "\n",
       "### Answer\n",
       "If a Justice of the Peace has a personal, family, financial, or business interest in a matter and is satisfied that a conflict of interest exists, they should decline to provide services in that matter. JPs should avoid any potential conflicts of interest, whether actual or perceived. If a document is part of a process that will lead to any income or benefit for the JP or their associate, they must not certify or witness the document and should refer the document to another JP.\n",
       "\n",
       "\n",
       "### Sources\n",
       "1. Justice  of the Peace  Handbook...\n",
       "\n",
       "2. 1 Access to services  1) A Justice of the Peace must not unreasonably refuse to provide  Justice of the Peace services and must treat all persons seek...\n",
       "\n",
       "3. FAQ 3. What is a confict of interest, and how should I avoid one?  A confict of interest occurs when a person tries to serve two or more  interests th...\n",
       "\n",
       "4. 128 Justice of the Peace Handbook...\n",
       "\n",
       "5. 123 Code of Conduct for Justices of the Peace  5  Code of Conduct for   Justices of the Peace...\n",
       "\n"
      ],
      "text/plain": [
       "<IPython.core.display.Markdown object>"
      ]
     },
     "metadata": {},
     "output_type": "display_data"
    },
    {
     "data": {
      "text/markdown": [
       "\n",
       "### Question #6\n",
       "What are the requirements to become a Justice of the Peace?\n",
       "\n",
       "### Answer\n",
       "The context does not provide information about the requirements to become a Justice of the Peace.\n",
       "\n",
       "\n",
       "### Sources\n",
       "1. Justice  of the Peace  Handbook...\n",
       "\n",
       "2. 128 Justice of the Peace Handbook...\n",
       "\n",
       "3. Justice of the Peace Handbook 122...\n",
       "\n",
       "4. 123 Code of Conduct for Justices of the Peace  5  Code of Conduct for   Justices of the Peace...\n",
       "\n",
       "5. 1 Access to services  1) A Justice of the Peace must not unreasonably refuse to provide  Justice of the Peace services and must treat all persons seek...\n",
       "\n"
      ],
      "text/plain": [
       "<IPython.core.display.Markdown object>"
      ]
     },
     "metadata": {},
     "output_type": "display_data"
    },
    {
     "data": {
      "text/markdown": [
       "\n",
       "### Question #7\n",
       "What are the limitations on a Justice of the Peace's authority?\n",
       "\n",
       "### Answer\n",
       "A Justice of the Peace must not refuse to provide services without a reasonable cause and must treat everyone with courtesy, dignity, and respect. They must act in a timely manner. They are prohibited from engaging in dishonest activities or behaving in a way that discredits the position. They are required to protect private, confidential, or commercially sensitive information obtained while providing services, unless authorized by law. They must remain independent and impartial, and decline service if a conflict of interest exists. If not reappointed or removed from office, they must immediately stop providing services. They cannot charge a fee or accept gifts for providing services. While they can use the title on business cards or letterheads, they cannot use the title to advance personal, commercial, or business interests.\n",
       "\n",
       "\n",
       "### Sources\n",
       "1. Justice  of the Peace  Handbook...\n",
       "\n",
       "2. 128 Justice of the Peace Handbook...\n",
       "\n",
       "3. Justice of the Peace Handbook 122...\n",
       "\n",
       "4. 123 Code of Conduct for Justices of the Peace  5  Code of Conduct for   Justices of the Peace...\n",
       "\n",
       "5. 1 Access to services  1) A Justice of the Peace must not unreasonably refuse to provide  Justice of the Peace services and must treat all persons seek...\n",
       "\n"
      ],
      "text/plain": [
       "<IPython.core.display.Markdown object>"
      ]
     },
     "metadata": {},
     "output_type": "display_data"
    },
    {
     "data": {
      "text/markdown": [
       "\n",
       "### Question #8\n",
       "How should a Justice of the Peace handle confidentiality issues?\n",
       "\n",
       "### Answer\n",
       "A Justice of the Peace must protect private, confidential, or commercially sensitive information obtained while providing services, unless authorized by law to reveal it.\n",
       "\n",
       "\n",
       "### Sources\n",
       "1. Justice  of the Peace  Handbook...\n",
       "\n",
       "2. 128 Justice of the Peace Handbook...\n",
       "\n",
       "3. 123 Code of Conduct for Justices of the Peace  5  Code of Conduct for   Justices of the Peace...\n",
       "\n",
       "4. Justice of the Peace Handbook 122...\n",
       "\n",
       "5. 1 Access to services  1) A Justice of the Peace must not unreasonably refuse to provide  Justice of the Peace services and must treat all persons seek...\n",
       "\n"
      ],
      "text/plain": [
       "<IPython.core.display.Markdown object>"
      ]
     },
     "metadata": {},
     "output_type": "display_data"
    },
    {
     "data": {
      "text/markdown": [
       "\n",
       "### Question #9\n",
       "What training is required for a Justice of the Peace?\n",
       "\n",
       "### Answer\n",
       "There is no mention of required training in the provided context.\n",
       "\n",
       "\n",
       "### Sources\n",
       "1. Justice  of the Peace  Handbook...\n",
       "\n",
       "2. 128 Justice of the Peace Handbook...\n",
       "\n",
       "3. Justice of the Peace Handbook 122...\n",
       "\n",
       "4. 123 Code of Conduct for Justices of the Peace  5  Code of Conduct for   Justices of the Peace...\n",
       "\n",
       "5. 3Introduction  1  Introduction  Thank you for serving the people of NSW as a JP.  The Attorney General of NSW acknowledges and  sincerely appreciates...\n",
       "\n"
      ],
      "text/plain": [
       "<IPython.core.display.Markdown object>"
      ]
     },
     "metadata": {},
     "output_type": "display_data"
    },
    {
     "data": {
      "text/markdown": [
       "\n",
       "### Question #10\n",
       "What record-keeping responsibilities does a Justice of the Peace have?\n",
       "\n",
       "### Answer\n",
       "A Justice of the Peace is required to inform the Department of Justice in writing about any changes to their name, postal or email address, or the telephone number they use for Justice of the Peace services as soon as it is practical.\n",
       "\n",
       "\n",
       "### Sources\n",
       "1. Justice  of the Peace  Handbook...\n",
       "\n",
       "2. 128 Justice of the Peace Handbook...\n",
       "\n",
       "3. Justice of the Peace Handbook 122...\n",
       "\n",
       "4. 123 Code of Conduct for Justices of the Peace  5  Code of Conduct for   Justices of the Peace...\n",
       "\n",
       "5. 2)  A Justice of the Peace must notify the Department of Justice in  writing of any of the following changes as soon as practicable   after that chang...\n",
       "\n"
      ],
      "text/plain": [
       "<IPython.core.display.Markdown object>"
      ]
     },
     "metadata": {},
     "output_type": "display_data"
    }
   ],
   "source": [
    "# Call the function to process all questions\n",
    "# You can set a longer delay if you encounter rate limiting issues\n",
    "response = ask_multiple_questions(jp_questions)\n"
   ]
  },
  {
   "cell_type": "markdown",
   "id": "ea06659a",
   "metadata": {},
   "source": [
    "## Interactive Q&A\n",
    "\n",
    "You can use the cell below to interactively ask questions about the handbook."
   ]
  },
  {
   "cell_type": "code",
   "execution_count": 28,
   "id": "346dd566",
   "metadata": {},
   "outputs": [
    {
     "data": {
      "text/markdown": [
       "\n",
       "### Question \n",
       "what is a statutory declaration?\n",
       "\n",
       "### Answer\n",
       "A statutory declaration will contain the words ‘statutory declaration’ and the name of the relevant state, territory or Commonwealth law. A NSW statutory declaration is made under the Oaths Act 1900 (NSW) and can be in the format of the Eighth Schedule and the Ninth Schedule of the Act. It may be either hand-written or type-written, but must be written in English.\n",
       "\n",
       "\n",
       "### Sources\n",
       "1. STEP 11 Follow the fnal steps for the declarant’s declaration  STEP 12 F ollow the fnal steps for the declarant’s declaration  • wa tch the declarant...\n",
       "\n",
       "2. Step-by-step  procedure   STEP 1  Check if the document is a statutory declaration  You can identify a statutory declaration because it will contain:...\n",
       "\n",
       "3. Justice  of the Peace  Handbook...\n",
       "\n",
       "4. QUICK REFERENCE:  Witnessing a statutory declaration  STEP 1 Check the document is a statutory declaration  STEP 2 S ee the client’s face  STEP 3 Conf...\n",
       "\n",
       "5. Commonwealth statutory declaration  An editable template can be downloaded from the JP website  www.jp.nsw.gov.au  Commonwealth of Australia  STATUTOR...\n",
       "\n"
      ],
      "text/plain": [
       "<IPython.core.display.Markdown object>"
      ]
     },
     "metadata": {},
     "output_type": "display_data"
    }
   ],
   "source": [
    "# Interactive question answering\n",
    "question = input(\"Ask a question about the handbook:\")\n",
    "response = ask_question(question)"
   ]
  },
  {
   "cell_type": "markdown",
   "id": "b70772e0",
   "metadata": {},
   "source": [
    "## Conclusion\n",
    "\n",
    "This RAG system allows you to ask questions about the jp-handbook-full.pdf document and get contextually relevant answers based on the content. Feel free to modify the query parameters or add more advanced features as needed."
   ]
  }
 ],
 "metadata": {
  "kernelspec": {
   "display_name": ".venv",
   "language": "python",
   "name": "python3"
  },
  "language_info": {
   "codemirror_mode": {
    "name": "ipython",
    "version": 3
   },
   "file_extension": ".py",
   "mimetype": "text/x-python",
   "name": "python",
   "nbconvert_exporter": "python",
   "pygments_lexer": "ipython3",
   "version": "3.12.8"
  }
 },
 "nbformat": 4,
 "nbformat_minor": 5
}
